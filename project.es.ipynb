{
 "cells": [
  {
   "attachments": {},
   "cell_type": "markdown",
   "id": "innocent-university",
   "metadata": {},
   "source": [
    "# Limpieza de bienes raíces\n",
    "\n",
    "Este es un conjunto de datos (dataset) reales que fue descargado usando técnicas de web scraping. La data contiene registros de fotocasa, el cual es uno de los sitios mas populares de bienes raíces en España. Por favor no hagas estos (web scraping) a no ser que sea para propósitos académicos.\n",
    "\n",
    "El dataset fue descargado hace algunos años por Henry Navarro y en ningún caso se obtuvo beneficio económico de ello.\n",
    "\n",
    "Contiene miles de datos de casas reales publicadas en la web www.fotocasa.com. Tu objetivo es extraer tanta información como sea posible con el conocimiento que tienes hasta ahora de ciencia de datos, por ejemplo ¿cuál es la casa mas cara en todo el dataset?\n",
    "\n",
    "Empecemos precisamente con esa pregunta... ¡Buena suerte!\n",
    "\n",
    "Let's start with precisely that question... Good luck!"
   ]
  },
  {
   "attachments": {},
   "cell_type": "markdown",
   "id": "multiple-glass",
   "metadata": {},
   "source": [
    "#### Ejercicio 00. Lee el dataset assets/real_estate.csv e intenta visualizar la tabla (★☆☆)"
   ]
  },
  {
   "cell_type": "code",
   "execution_count": 11,
   "id": "frank-heath",
   "metadata": {},
   "outputs": [
    {
     "name": "stderr",
     "output_type": "stream",
     "text": [
      "/tmp/ipykernel_728/3417601326.py:1: DeprecationWarning: \n",
      "Pyarrow will become a required dependency of pandas in the next major release of pandas (pandas 3.0),\n",
      "(to allow more performant data types, such as the Arrow string type, and better interoperability with other libraries)\n",
      "but was not found to be installed on your system.\n",
      "If this would cause problems for you,\n",
      "please provide us feedback at https://github.com/pandas-dev/pandas/issues/54466\n",
      "        \n",
      "  import pandas as pd\n"
     ]
    },
    {
     "name": "stdout",
     "output_type": "stream",
     "text": [
      "       Unnamed: 0  id_realEstates  isNew                    realEstate_name  \\\n",
      "0               1       153771986  False            ferrari 57 inmobiliaria   \n",
      "1               2       153867863  False  tecnocasa fuenlabrada ferrocarril   \n",
      "2               3       153430440  False                 look find boadilla   \n",
      "3               4       152776331  False  tecnocasa fuenlabrada ferrocarril   \n",
      "4               5       153180188  False            ferrari 57 inmobiliaria   \n",
      "...           ...             ...    ...                                ...   \n",
      "15330       15331       153901377  False                infocasa consulting   \n",
      "15331       15332       150394373  False                inmobiliaria pulpon   \n",
      "15332       15333       153901397  False             tecnocasa torrelodones   \n",
      "15333       15334       152607440  False                inmobiliaria pulpon   \n",
      "15334       15335       153901356  False                infocasa consulting   \n",
      "\n",
      "       phone_realEstate                                       url_inmueble  \\\n",
      "0           912177526.0  https://www.fotocasa.es/es/comprar/vivienda/ma...   \n",
      "1           916358736.0  https://www.fotocasa.es/es/comprar/vivienda/ma...   \n",
      "2           916350408.0  https://www.fotocasa.es/es/comprar/vivienda/ma...   \n",
      "3           916358736.0  https://www.fotocasa.es/es/comprar/vivienda/ma...   \n",
      "4           912177526.0  https://www.fotocasa.es/es/comprar/vivienda/ma...   \n",
      "...                 ...                                                ...   \n",
      "15330       911360461.0  https://www.fotocasa.es/es/comprar/vivienda/ma...   \n",
      "15331       912788039.0  https://www.fotocasa.es/es/comprar/vivienda/ma...   \n",
      "15332       912780348.0  https://www.fotocasa.es/es/comprar/vivienda/ma...   \n",
      "15333       912788039.0  https://www.fotocasa.es/es/comprar/vivienda/ma...   \n",
      "15334       911360461.0  https://www.fotocasa.es/es/comprar/vivienda/ma...   \n",
      "\n",
      "       rooms  bathrooms  surface   price  ... level4Id level5Id level6Id  \\\n",
      "0        3.0        2.0    103.0  195000  ...        0        0        0   \n",
      "1        3.0        1.0      NaN   89000  ...        0        0        0   \n",
      "2        2.0        2.0     99.0  390000  ...        0        0        0   \n",
      "3        3.0        1.0     86.0   89000  ...        0        0        0   \n",
      "4        2.0        2.0    106.0  172000  ...        0        0        0   \n",
      "...      ...        ...      ...     ...  ...      ...      ...      ...   \n",
      "15330    2.0        1.0     96.0  259470  ...        0        0        0   \n",
      "15331    3.0        1.0    150.0  165000  ...        0        0        0   \n",
      "15332    4.0        2.0    175.0  495000  ...        0        0        0   \n",
      "15333    3.0        2.0    101.0  195000  ...        0        0        0   \n",
      "15334    3.0        2.0    152.0  765000  ...        0        0        0   \n",
      "\n",
      "      level7Id level8Id accuracy          latitude          longitude zipCode  \\\n",
      "0            0        0        0  40,2948276786438  -3,44402412135624     NaN   \n",
      "1            0        0        1          40,28674           -3,79351     NaN   \n",
      "2            0        0        0  40,4115646786438  -3,90662252135624     NaN   \n",
      "3            0        0        0  40,2853785786438  -3,79508142135624     NaN   \n",
      "4            0        0        0  40,2998774864376  -3,45226301356237     NaN   \n",
      "...        ...      ...      ...               ...                ...     ...   \n",
      "15330        0        0        0          40,45416           -3,70286     NaN   \n",
      "15331        0        0        0          40,36652           -3,48951     NaN   \n",
      "15332        0        0        0          40,57444           -3,92124     NaN   \n",
      "15333        0        0        0          40,36967           -3,48105     NaN   \n",
      "15334        0        0        0          40,45773           -3,69068     NaN   \n",
      "\n",
      "      customZone  \n",
      "0            NaN  \n",
      "1            NaN  \n",
      "2            NaN  \n",
      "3            NaN  \n",
      "4            NaN  \n",
      "...          ...  \n",
      "15330        NaN  \n",
      "15331        NaN  \n",
      "15332        NaN  \n",
      "15333        NaN  \n",
      "15334        NaN  \n",
      "\n",
      "[15335 rows x 37 columns]\n"
     ]
    }
   ],
   "source": [
    "import pandas as pd\n",
    "\n",
    "# this CSV file contains semicolons instead of comas as separator\n",
    "ds = pd.read_csv('assets/real_estate.csv', sep=';')\n",
    "ds\n",
    "print(ds)"
   ]
  },
  {
   "attachments": {},
   "cell_type": "markdown",
   "id": "latin-guest",
   "metadata": {},
   "source": [
    "#### Ejercicio 01. ¿Cuál es la casa mas cara en el todo el dataset? (★☆☆)\n",
    "\n",
    "Imprime la direccion y el precio de la casa seleccionada. Por ejemplo:\n",
    "\n",
    "`The house with address General Street Nº5 is the most expensive and its price is 5000000 USD`"
   ]
  },
  {
   "cell_type": "code",
   "execution_count": 12,
   "id": "developing-optimum",
   "metadata": {},
   "outputs": [
    {
     "name": "stdout",
     "output_type": "stream",
     "text": [
      "Unnamed: 0                                                      13111\n",
      "id_realEstates                                              132042636\n",
      "isNew                                                           False\n",
      "realEstate_name                            engel volkers torrelodones\n",
      "phone_realEstate                                          911798512.0\n",
      "url_inmueble        https://www.fotocasa.es/es/comprar/vivienda/vi...\n",
      "rooms                                                            19.0\n",
      "bathrooms                                                         NaN\n",
      "surface                                                           NaN\n",
      "price                                                         8500000\n",
      "date                                             2019-12-19T12:29:00Z\n",
      "description         El Palacio de El Enebral, la finca fue propied...\n",
      "address                                                   El Escorial\n",
      "country                                                        España\n",
      "level1                                                         Madrid\n",
      "level2                                                         Madrid\n",
      "level3                                                  Zona Noroeste\n",
      "level4                                           El Escorial, Zona de\n",
      "level5                                                    El Escorial\n",
      "level6                                                            NaN\n",
      "level7                                             Centro - Manquilla\n",
      "level8                                                            NaN\n",
      "upperLevel                                         Centro - Manquilla\n",
      "countryId                                                           0\n",
      "level1Id                                                            0\n",
      "level2Id                                                            0\n",
      "level3Id                                                            0\n",
      "level4Id                                                            0\n",
      "level5Id                                                            0\n",
      "level6Id                                                            0\n",
      "level7Id                                                            0\n",
      "level8Id                                                            0\n",
      "accuracy                                                            0\n",
      "latitude                                             40,5830801751782\n",
      "longitude                                           -4,12951942848611\n",
      "zipCode                                                           NaN\n",
      "customZone                                                        NaN\n",
      "Name: 13110, dtype: object\n",
      "Dirección de la casa más cara: El Escorial\n",
      "Precio de la casa más cara: 8500000\n"
     ]
    }
   ],
   "source": [
    "# Encontrar el indice de la fila con el precio más caro \n",
    "indice_de_la_casa_mas_cara = ds['price'].idxmax()\n",
    "casa_mas_cara = ds.loc[indice_de_la_casa_mas_cara]\n",
    "print(casa_mas_cara)\n",
    "\n",
    "direccion_casa_mas_cara = casa_mas_cara['address']\n",
    "precio_casa_mas_cara = casa_mas_cara['price']\n",
    "\n",
    "print(f\"Dirección de la casa más cara: {direccion_casa_mas_cara}\")\n",
    "print(f\"Precio de la casa más cara: {precio_casa_mas_cara}\")\n"
   ]
  },
  {
   "attachments": {},
   "cell_type": "markdown",
   "id": "lesser-cosmetic",
   "metadata": {},
   "source": [
    "#### Ejercicio 02. ¿Cuál es la casa mas barata del dataset? (★☆☆)\n",
    "\n",
    "Imprime la dirección y el precio de la casa seleccionada. Por ejemplo:\n",
    "\n",
    "`The house with address Concrete Street Nº1 is the cheapest and its price is 12000 USD`"
   ]
  },
  {
   "cell_type": "code",
   "execution_count": 13,
   "id": "lovely-oasis",
   "metadata": {},
   "outputs": [
    {
     "name": "stdout",
     "output_type": "stream",
     "text": [
      "Unnamed: 0                                                        367\n",
      "id_realEstates                                              153637952\n",
      "isNew                                                           False\n",
      "realEstate_name                                                esalje\n",
      "phone_realEstate                                          912786497.0\n",
      "url_inmueble        https://www.fotocasa.es/es/comprar/vivienda/ma...\n",
      "rooms                                                             4.0\n",
      "bathrooms                                                         4.0\n",
      "surface                                                         262.0\n",
      "price                                                               0\n",
      "date                                      2019-12-28T18:52:25.965658Z\n",
      "description         ESALJE vende amplio pareado de 268 m2. distrib...\n",
      "address                                                         Parla\n",
      "country                                                        España\n",
      "level1                                                         Madrid\n",
      "level2                                                         Madrid\n",
      "level3                                             Zona Sur de Madrid\n",
      "level4                                                 Parla, Zona de\n",
      "level5                                                          Parla\n",
      "level6                                                            NaN\n",
      "level7                                          Fuentebella - El Nido\n",
      "level8                                                            NaN\n",
      "upperLevel                                      Fuentebella - El Nido\n",
      "countryId                                                           0\n",
      "level1Id                                                            0\n",
      "level2Id                                                            0\n",
      "level3Id                                                            0\n",
      "level4Id                                                            0\n",
      "level5Id                                                            0\n",
      "level6Id                                                            0\n",
      "level7Id                                                            0\n",
      "level8Id                                                            0\n",
      "accuracy                                                            0\n",
      "latitude                                                     40,23202\n",
      "longitude                                                    -3,78132\n",
      "zipCode                                                           NaN\n",
      "customZone                                                        NaN\n",
      "Name: 366, dtype: object\n",
      "Dirección de la casa más barato: Parla\n",
      "Precio de la casa más barato: 0\n"
     ]
    }
   ],
   "source": [
    "# Encontrar el indice de la fila con el precio más barato \n",
    "indice_de_la_casa_mas_barato = ds['price'].idxmin()\n",
    "casa_mas_barato = ds.loc[indice_de_la_casa_mas_barato]\n",
    "print(casa_mas_barato)\n",
    "\n",
    "direccion_casa_mas_barato = casa_mas_barato['address']\n",
    "precio_casa_mas_barato = casa_mas_barato['price']\n",
    "\n",
    "print(f\"Dirección de la casa más barato: {direccion_casa_mas_barato}\")\n",
    "print(f\"Precio de la casa más barato: {precio_casa_mas_barato}\")"
   ]
  },
  {
   "attachments": {},
   "cell_type": "markdown",
   "id": "compliant-fellowship",
   "metadata": {},
   "source": [
    "#### Ejercicio 03. ¿Cuál es la casa mas grande y la mas pequeña del dataset? (★☆☆)\n",
    "\n",
    "Imprime la dirección y el area de las casas seleccionadas. Por ejemplo:\n",
    "\n",
    "`The bigger house is located on Yukka Street Nº10 and its surface is 5000 meters`\n",
    "\n",
    "`The smaller house is located on County Road 1 N and its surface is 200 meters`"
   ]
  },
  {
   "cell_type": "code",
   "execution_count": 14,
   "id": "every-tiffany",
   "metadata": {},
   "outputs": [
    {
     "name": "stdout",
     "output_type": "stream",
     "text": [
      "Dirección de la casa más grande: Sevilla la Nueva\n",
      "Superficie de la casa más grande: 249000.0\n",
      "Dirección de la casa más pequeña: Calle Amparo,  Madrid Capital\n",
      "Superficie de la casa más pequeña: 15.0\n"
     ]
    }
   ],
   "source": [
    "# Emcontramos indice casa mas grande\n",
    "indice_casa_mas_grande = ds['surface'].idxmax()\n",
    "casa_mas_grande = ds.loc[indice_casa_mas_grande]\n",
    "\n",
    "# Encontramos indice casa mas pequena\n",
    "indice_casa_mas_pequena = ds['surface'].idxmin()\n",
    "casa_mas_pequena = ds.loc[indice_casa_mas_pequena]\n",
    "\n",
    "direccion_casa_mas_grande = casa_mas_grande['address']\n",
    "superficie_casa_mas_grande = casa_mas_grande['surface']\n",
    "\n",
    "# imprimimos datos casa mas grande, direccion y superficie \n",
    "print(f\"Dirección de la casa más grande: {direccion_casa_mas_grande}\")\n",
    "print(f\"Superficie de la casa más grande: {superficie_casa_mas_grande}\")\n",
    "\n",
    "direccion_casa_mas_pequena = casa_mas_pequena['address']\n",
    "superficie_casa_mas_pequena = casa_mas_pequena['surface']\n",
    "\n",
    "# imprimimos datos casa mas pequeña\n",
    "print(f\"Dirección de la casa más pequeña: {direccion_casa_mas_pequena}\")\n",
    "print(f\"Superficie de la casa más pequeña: {superficie_casa_mas_pequena}\")"
   ]
  },
  {
   "attachments": {},
   "cell_type": "markdown",
   "id": "danish-spirit",
   "metadata": {},
   "source": [
    "#### Ejercicio 04. ¿Cuantas poblaciones (columna level5) contiene el dataset? (★☆☆)\n",
    "\n",
    "Imprime el nombre de las poblaciones separadas por coma. Por ejemplo:\n",
    "\n",
    "`> print(populations)`\n",
    "\n",
    "`population1, population2, population3,...`"
   ]
  },
  {
   "cell_type": "code",
   "execution_count": 15,
   "id": "exciting-accreditation",
   "metadata": {},
   "outputs": [
    {
     "name": "stdout",
     "output_type": "stream",
     "text": [
      "el dataset contiene 168 poblaciones distintas\n",
      "\n",
      "Población: Arganda del Rey\n",
      "\n",
      "Población: Fuenlabrada\n",
      "\n",
      "Población: Boadilla del Monte\n",
      "\n",
      "Población: Las Rozas de Madrid\n",
      "\n",
      "Población:  Madrid Capital\n",
      "\n",
      "Población: Villaviciosa de Odón\n",
      "\n",
      "Población: Pinto\n",
      "\n",
      "Población: Valdemoro\n",
      "\n",
      "Población: Navalcarnero\n",
      "\n",
      "Población: Pozuelo de Alarcón\n",
      "\n",
      "Población: Torrejón de Ardoz\n",
      "\n",
      "Población: Navalagamella\n",
      "\n",
      "Población: San Sebastián de los Reyes\n",
      "\n",
      "Población: Rivas-vaciamadrid\n",
      "\n",
      "Población: Alpedrete\n",
      "\n",
      "Población: Móstoles\n",
      "\n",
      "Población: San Fernando de Henares\n",
      "\n",
      "Población: Coslada\n",
      "\n",
      "Población: Becerril de la Sierra\n",
      "\n",
      "Población: Alcalá de Henares\n",
      "\n",
      "Población: Chinchón\n",
      "\n",
      "Población: Parla\n",
      "\n",
      "Población: Alcorcón\n",
      "\n",
      "Población: El Escorial\n",
      "\n",
      "Población: Leganés\n",
      "\n",
      "Población: Pedrezuela\n",
      "\n",
      "Población: Majadahonda\n",
      "\n",
      "Población: Villanueva de la Cañada\n",
      "\n",
      "Población: Villanueva del Pardillo\n",
      "\n",
      "Población: Torrelodones\n",
      "\n",
      "Población: Moralzarzal\n",
      "\n",
      "Población: Mejorada del Campo\n",
      "\n",
      "Población: Aranjuez\n",
      "\n",
      "Población: Corpa\n",
      "\n",
      "Población: Getafe\n",
      "\n",
      "Población: Velilla de San Antonio\n",
      "\n",
      "Población: Sevilla la Nueva\n",
      "\n",
      "Población: San Martín de la Vega\n",
      "\n",
      "Población: Villalbilla\n",
      "\n",
      "Población: Collado Villalba\n",
      "\n",
      "Población: Alcobendas\n",
      "\n",
      "Población: El Molar (Madrid)\n",
      "\n",
      "Población: Moraleja de Enmedio\n",
      "\n",
      "Población: Algete\n",
      "\n",
      "Población: Campo Real\n",
      "\n",
      "Población: Torrejón de la Calzada\n",
      "\n",
      "Población: Colmenar Viejo\n",
      "\n",
      "Población: Valdemorillo\n",
      "\n",
      "Población: Fuente El Saz de Jarama\n",
      "\n",
      "Población: Tres Cantos\n",
      "\n",
      "Población: Arroyomolinos (Madrid)\n",
      "\n",
      "Población: Griñón\n",
      "\n",
      "Población: Paracuellos de Jarama\n",
      "\n",
      "Población: Guadarrama\n",
      "\n",
      "Población: Titulcia\n",
      "\n",
      "Población: Galapagar\n",
      "\n",
      "Población: Collado Mediano\n",
      "\n",
      "Población: Los Molinos\n",
      "\n",
      "Población: San Lorenzo de El Escorial\n",
      "\n",
      "Población: Loeches\n",
      "\n",
      "Población: San Martín de Valdeiglesias\n",
      "\n",
      "Población: Navas del Rey\n",
      "\n",
      "Población: Bustarviejo\n",
      "\n",
      "Población: Manzanares El Real\n",
      "\n",
      "Población: Carabaña\n",
      "\n",
      "Población: Casarrubuelos\n",
      "\n",
      "Población: Cercedilla\n",
      "\n",
      "Población: Fresnedillas de la Oliva\n",
      "\n",
      "Población: Valdemaqueda\n",
      "\n",
      "Población: Robledo de Chavela\n",
      "\n",
      "Población: Miraflores de la Sierra\n",
      "\n",
      "Población: Humanes de Madrid\n",
      "\n",
      "Población: Valdetorres de Jarama\n",
      "\n",
      "Población: San Agustín del Guadalix\n",
      "\n",
      "Población: Ciempozuelos\n",
      "\n",
      "Población: Camarma de Esteruelas\n",
      "\n",
      "Población: Torres de la Alameda\n",
      "\n",
      "Población: Talamanca de Jarama\n",
      "\n",
      "Población: El Atazar\n",
      "\n",
      "Población: Hoyo de Manzanares\n",
      "\n",
      "Población: El Boalo - Cerceda – Mataelpino\n",
      "\n",
      "Población: El Álamo\n",
      "\n",
      "Población: Valdilecha\n",
      "\n",
      "Población: Valdeolmos-Alalpardo\n",
      "\n",
      "Población: Guadalix de la Sierra\n",
      "\n",
      "Población: Belmonte de Tajo\n",
      "\n",
      "Población: El Vellón\n",
      "\n",
      "Población: Brunete\n",
      "\n",
      "Población: Redueña\n",
      "\n",
      "Población: Morata de Tajuña\n",
      "\n",
      "Población: Tielmes\n",
      "\n",
      "Población: Gargantilla del Lozoya\n",
      "\n",
      "Población: Meco\n",
      "\n",
      "Población: Venturada\n",
      "\n",
      "Población: Quijorna\n",
      "\n",
      "Población: Cenicientos\n",
      "\n",
      "Población: Torrejón de Velasco\n",
      "\n",
      "Población: Navacerrada\n",
      "\n",
      "Población: Santa María de la Alameda\n",
      "\n",
      "Población: Orusco de Tajuña\n",
      "\n",
      "Población: Daganzo de Arriba\n",
      "\n",
      "Población: Villamanta\n",
      "\n",
      "Población: Anchuelo\n",
      "\n",
      "Población: Valdaracete\n",
      "\n",
      "Población: Ajalvir\n",
      "\n",
      "Población: Los Santos de la Humosa\n",
      "\n",
      "Población: Villamanrique de Tajo\n",
      "\n",
      "Población: Colmenar de Oreja\n",
      "\n",
      "Población: Villa del Prado\n",
      "\n",
      "Población: Fuentidueña de Tajo\n",
      "\n",
      "Población: Colmenar del Arroyo\n",
      "\n",
      "Población: Valdelaguna\n",
      "\n",
      "Población: Cubas de la Sagra\n",
      "\n",
      "Población: Valdeavero\n",
      "\n",
      "Población: Aldea del Fresno\n",
      "\n",
      "Población: Ribatejada\n",
      "\n",
      "Población: Torrelaguna\n",
      "\n",
      "Población: Batres\n",
      "\n",
      "Población: Pezuela de las Torres\n",
      "\n",
      "Población: Colmenarejo\n",
      "\n",
      "Población: Serranillos del Valle\n",
      "\n",
      "Población: Cobeña\n",
      "\n",
      "Población: Soto del Real\n",
      "\n",
      "Población: El Berrueco\n",
      "\n",
      "Población: Villanueva de Perales\n",
      "\n",
      "Población: Fresno de Torote - Serracines\n",
      "\n",
      "Población: Pozuelo del Rey\n",
      "\n",
      "Población: Pelayos de la Presa\n",
      "\n",
      "Población: La Cabrera\n",
      "\n",
      "Población: Nuevo Baztán\n",
      "\n",
      "Población: Perales de Tajuña\n",
      "\n",
      "Población: Villaconejos\n",
      "\n",
      "Población: Villarejo de Salvanés\n",
      "\n",
      "Población: Cadalso de los Vidrios\n",
      "\n",
      "Población: Santorcaz\n",
      "\n",
      "Población: Madarcos\n",
      "\n",
      "Población: Garganta de los Montes\n",
      "\n",
      "Población: Puentes Viejas\n",
      "\n",
      "Población: Torremocha de Jarama\n",
      "\n",
      "Población: Valdemanco\n",
      "\n",
      "Población: Braojos\n",
      "\n",
      "Población: Lozoyuela-navas-sieteiglesias\n",
      "\n",
      "Población: Piñuécar-gandullas\n",
      "\n",
      "Población: Valdepiélagos\n",
      "\n",
      "Población: Valverde de Alcalá\n",
      "\n",
      "Población: Villar del Olmo\n",
      "\n",
      "Población: Villamantilla\n",
      "\n",
      "Población: Horcajo de la Sierra\n",
      "\n",
      "Población: Gascones\n",
      "\n",
      "Población: Zarzalejo\n",
      "\n",
      "Población: Villavieja del Lozoya\n",
      "\n",
      "Población: Brea de Tajo\n",
      "\n",
      "Población: Estremera\n",
      "\n",
      "Población: Chapinería\n",
      "\n",
      "Población: Navarredonda\n",
      "\n",
      "Población: Patones\n",
      "\n",
      "Población: Ambite\n",
      "\n",
      "Población: Navalafuente\n",
      "\n",
      "Población: Lozoya\n",
      "\n",
      "Población: Canencia\n",
      "\n",
      "Población: Cabanillas de la Sierra\n",
      "\n",
      "Población: Buitrago del Lozoya\n",
      "\n",
      "Población: Fresno de Torote\n",
      "\n",
      "Población: Robregordo\n",
      "\n",
      "Población: Pinilla del Valle\n",
      "\n",
      "Población: Rascafría\n",
      "\n",
      "Población: La Hiruela\n",
      "\n",
      "Población: Montejo de la Sierra\n"
     ]
    }
   ],
   "source": [
    "# TODO\n",
    "cantidad_poblaciones = ds['level5'].nunique()\n",
    "print(f\"el dataset contiene {cantidad_poblaciones} poblaciones distintas\")\n",
    "\n",
    "# Imprimir nombre de las poblaciones \n",
    "poblaciones_unicas = ds['level5'].unique()\n",
    "for poblacion in poblaciones_unicas:\n",
    "    poblacion_df = ds[ds['level5'] == poblacion]\n",
    "    print(f\"\\nPoblación: {poblacion}\")"
   ]
  },
  {
   "attachments": {},
   "cell_type": "markdown",
   "id": "crazy-blame",
   "metadata": {},
   "source": [
    "#### Ejercicio 05. ¿El data set contiene valores no admitidos (NAs)? (★☆☆)\n",
    "\n",
    "Imprima un booleano (`true` o `fase`) seguido de la fila/columna que contiene el NAs."
   ]
  },
  {
   "cell_type": "code",
   "execution_count": 16,
   "id": "transparent-poetry",
   "metadata": {},
   "outputs": [
    {
     "name": "stdout",
     "output_type": "stream",
     "text": [
      "       Unnamed: 0  id_realEstates  isNew  realEstate_name  phone_realEstate  \\\n",
      "0           False           False  False            False             False   \n",
      "1           False           False  False            False             False   \n",
      "2           False           False  False            False             False   \n",
      "3           False           False  False            False             False   \n",
      "4           False           False  False            False             False   \n",
      "...           ...             ...    ...              ...               ...   \n",
      "15330       False           False  False            False             False   \n",
      "15331       False           False  False            False             False   \n",
      "15332       False           False  False            False             False   \n",
      "15333       False           False  False            False             False   \n",
      "15334       False           False  False            False             False   \n",
      "\n",
      "       url_inmueble  rooms  bathrooms  surface  price  ...  level4Id  \\\n",
      "0             False  False      False    False  False  ...     False   \n",
      "1             False  False      False     True  False  ...     False   \n",
      "2             False  False      False    False  False  ...     False   \n",
      "3             False  False      False    False  False  ...     False   \n",
      "4             False  False      False    False  False  ...     False   \n",
      "...             ...    ...        ...      ...    ...  ...       ...   \n",
      "15330         False  False      False    False  False  ...     False   \n",
      "15331         False  False      False    False  False  ...     False   \n",
      "15332         False  False      False    False  False  ...     False   \n",
      "15333         False  False      False    False  False  ...     False   \n",
      "15334         False  False      False    False  False  ...     False   \n",
      "\n",
      "       level5Id  level6Id  level7Id  level8Id  accuracy  latitude  longitude  \\\n",
      "0         False     False     False     False     False     False      False   \n",
      "1         False     False     False     False     False     False      False   \n",
      "2         False     False     False     False     False     False      False   \n",
      "3         False     False     False     False     False     False      False   \n",
      "4         False     False     False     False     False     False      False   \n",
      "...         ...       ...       ...       ...       ...       ...        ...   \n",
      "15330     False     False     False     False     False     False      False   \n",
      "15331     False     False     False     False     False     False      False   \n",
      "15332     False     False     False     False     False     False      False   \n",
      "15333     False     False     False     False     False     False      False   \n",
      "15334     False     False     False     False     False     False      False   \n",
      "\n",
      "       zipCode  customZone  \n",
      "0         True        True  \n",
      "1         True        True  \n",
      "2         True        True  \n",
      "3         True        True  \n",
      "4         True        True  \n",
      "...        ...         ...  \n",
      "15330     True        True  \n",
      "15331     True        True  \n",
      "15332     True        True  \n",
      "15333     True        True  \n",
      "15334     True        True  \n",
      "\n",
      "[15335 rows x 37 columns]\n"
     ]
    }
   ],
   "source": [
    "# Valores NAN en el Dataframe\n",
    "valores_nan_booleanos = ds.isna()\n",
    "print(valores_nan_booleanos)"
   ]
  },
  {
   "attachments": {},
   "cell_type": "markdown",
   "id": "italic-hydrogen",
   "metadata": {},
   "source": [
    "#### Ejercicio 06. Elimina los NAs del data set, si aplica (★★☆)\n",
    "\n",
    "Imprima una comparación entre las dimensiones del DataFrame original versus el DataFrame después de las eliminaciones.\n"
   ]
  },
  {
   "cell_type": "code",
   "execution_count": 17,
   "id": "administrative-roads",
   "metadata": {},
   "outputs": [
    {
     "name": "stdout",
     "output_type": "stream",
     "text": [
      "Empty DataFrame\n",
      "Columns: [Unnamed: 0, id_realEstates, isNew, realEstate_name, phone_realEstate, url_inmueble, rooms, bathrooms, surface, price, date, description, address, country, level1, level2, level3, level4, level5, level6, level7, level8, upperLevel, countryId, level1Id, level2Id, level3Id, level4Id, level5Id, level6Id, level7Id, level8Id, accuracy, latitude, longitude, zipCode, customZone]\n",
      "Index: []\n",
      "\n",
      "[0 rows x 37 columns]\n"
     ]
    }
   ],
   "source": [
    "# Eleminar na como valor \n",
    "ds_sin_nan = ds.dropna()\n",
    "print(ds_sin_nan)\n",
    "\n",
    "# Aqui me borra todas las filas que contienen NAs "
   ]
  },
  {
   "attachments": {},
   "cell_type": "markdown",
   "id": "middle-china",
   "metadata": {},
   "source": [
    "#### Ejercicio 07. ¿Cuál la media de precios en la población (columna level5) de \"Arroyomolinos (Madrid)\"? (★★☆)\n",
    "\n",
    "Imprima el valor obtenido"
   ]
  },
  {
   "cell_type": "code",
   "execution_count": 18,
   "id": "nuclear-belief",
   "metadata": {},
   "outputs": [
    {
     "name": "stdout",
     "output_type": "stream",
     "text": [
      "La media de precios para Arroyo Molinos en Madrid es: nan\n"
     ]
    }
   ],
   "source": [
    "# Filtramos para obtener solo las filas correspondientes a arroyo molinos\n",
    "arroyo_molinos_madrid_df = ds[(ds['level5'] == 'Arroyo Molinos') & (ds['level5'] == 'Madrid')]\n",
    "media_precios_arroyo_molinos_madrid = arroyo_molinos_madrid_df['price'].mean()\n",
    "\n",
    "print(f\"La media de precios para Arroyo Molinos en Madrid es: {media_precios_arroyo_molinos_madrid}\")\n",
    "\n",
    "# Porque me sale nan???"
   ]
  },
  {
   "attachments": {},
   "cell_type": "markdown",
   "id": "concerned-radical",
   "metadata": {},
   "source": [
    "#### Ejercicio 08. Trazar el histograma de los precios para la población (level5 column) de \"Arroyomolinos (Madrid)\" y explica qué observas (★★☆)\n",
    "\n",
    "Imprime el histograma de los precios y escribe en la celda del Markdown un breve análisis del trazado.\n"
   ]
  },
  {
   "cell_type": "code",
   "execution_count": 19,
   "id": "sudden-message",
   "metadata": {},
   "outputs": [
    {
     "data": {
      "image/png": "[encoded data removed]",
      "text/plain": [
       "<Figure size 640x480 with 1 Axes>"
      ]
     },
     "metadata": {},
     "output_type": "display_data"
    }
   ],
   "source": [
    "# TODO: Code\n",
    "import matplotlib.pyplot as plt\n",
    "\n",
    "# Filtramos el DataFrame para obtener solo las filas correspondientes a Arroyo Molinos\n",
    "arroyo_molinos_madrid_df = ds[(ds['level5'] == 'Arroyo Molinos') & (ds['level5'] == 'Madrid')]\n",
    "\n",
    "# Eliminamos las filas que contienen NaN en la columna  de price\n",
    "arroyo_molinos_madrid_df = arroyo_molinos_madrid_df.dropna(subset=['price'])\n",
    "\n",
    "# Histograma de precios \n",
    "plt.hist(arroyo_molinos_madrid_df['price'], bins=20, color='blue', edgecolor='black')\n",
    "\n",
    "# Config Histograma\n",
    "plt.title('Histograma de Precios en Arroyo Molinos (Madrid)')\n",
    "plt.xlabel('Precio')\n",
    "plt.ylabel('Frecuencia')\n",
    "\n",
    "plt.show()\n",
    "\n"
   ]
  },
  {
   "attachments": {},
   "cell_type": "markdown",
   "id": "impressed-combination",
   "metadata": {},
   "source": [
    "**TODO: Markdown**. Para escribir aquí, has doble click en este celda y elimina este contenido y coloca lo que quieras escribir. Luego ejecuta la celda."
   ]
  },
  {
   "attachments": {},
   "cell_type": "markdown",
   "id": "actual-edinburgh",
   "metadata": {},
   "source": [
    "#### Ejercicio 09. ¿ Son los precios promedios de \"Valdemorillo\" y \"Galapagar\" los mismos? (★★☆)\n",
    "\n",
    "Imprime ambos promedio y escribe una conclusion acerca de ellos"
   ]
  },
  {
   "cell_type": "code",
   "execution_count": 20,
   "id": "numeric-commerce",
   "metadata": {},
   "outputs": [
    {
     "name": "stdout",
     "output_type": "stream",
     "text": [
      "El precio promedio en Galapagar es: 360063.20238095237\n",
      "El precio promedio en Valdemorillo es: 363860.2931034483\n"
     ]
    }
   ],
   "source": [
    "# Precios promedio filas \n",
    "galapagar_df = ds[(ds['level5'] == 'Galapagar')]\n",
    "valdemorillo_df = ds[(ds['level5'] == 'Valdemorillo')]\n",
    "\n",
    "precio_promedio_galapagar = galapagar_df['price'].mean()\n",
    "precio_promedio_valdemorillo = valdemorillo_df['price'].mean()\n",
    "\n",
    "print(f\"El precio promedio en Galapagar es: {precio_promedio_galapagar}\")\n",
    "print(f\"El precio promedio en Valdemorillo es: {precio_promedio_valdemorillo}\")"
   ]
  },
  {
   "cell_type": "code",
   "execution_count": null,
   "id": "5a2526ad",
   "metadata": {},
   "outputs": [],
   "source": []
  },
  {
   "attachments": {},
   "cell_type": "markdown",
   "id": "lonely-article",
   "metadata": {},
   "source": [
    "#### Ejercicio 10. ¿Son los promedios de precio por metro cuadrado (price/m2) de \"Valdemorillo\" y \"Galapagar\" los mismos? (★★☆)\n",
    "\n",
    "Imprime ambos promedios de precio y escribe una conclusion acerca de ellos.\n",
    "\n",
    "Pista: Crea una nueva columna llamada `pps` (price per square) y luego analiza los valore.s"
   ]
  },
  {
   "cell_type": "code",
   "execution_count": 21,
   "id": "hourly-globe",
   "metadata": {},
   "outputs": [
    {
     "name": "stdout",
     "output_type": "stream",
     "text": [
      "El promedio de PPS en Galapagar es: 1606.3240303094024\n",
      "El promedio de PPS en Valdemorillo es: 1317.9502109024986\n"
     ]
    }
   ],
   "source": [
    "# Convertimos la columna 'surface' a tipo numérico, para no dat errror\n",
    "ds['surface'] = pd.to_numeric(ds['surface'], errors='coerce')\n",
    "\n",
    "# Calculamos PPS para cada fila\n",
    "ds['PPS'] = ds['price'] / ds['surface']\n",
    "\n",
    "# Filtramos el DataFrame para obtener solo las filas correspondientes a Valdemorillo y Galapagar\n",
    "galapagar_df = ds[(ds['level5'] == 'Galapagar')]\n",
    "valdemorillo_df = ds[(ds['level5'] == 'Valdemorillo')]\n",
    "\n",
    "# Calculamos los promedios de PPS para cada población\n",
    "pps_promedio_galapagar = galapagar_df['PPS'].mean()\n",
    "pps_promedio_valdemorillo = valdemorillo_df['PPS'].mean()\n",
    "\n",
    "# Imprimr los promedios de PPS\n",
    "print(f\"El promedio de PPS en Galapagar es: {pps_promedio_galapagar}\")\n",
    "print(f\"El promedio de PPS en Valdemorillo es: {pps_promedio_valdemorillo}\")\n"
   ]
  },
  {
   "attachments": {},
   "cell_type": "markdown",
   "id": "pleasant-invite",
   "metadata": {},
   "source": [
    "#### Ejercicio 11. Analiza la relación entre la superficie y el precio de las casas. (★★☆)\n",
    "\n",
    "Pista: Puedes hacer un `scatter plot` y luego escribir una conclusion al respecto."
   ]
  },
  {
   "cell_type": "code",
   "execution_count": 22,
   "id": "common-drilling",
   "metadata": {},
   "outputs": [
    {
     "data": {
      "image/png": "[encoded data removed]",
      "text/plain": [
       "<Figure size 640x480 with 1 Axes>"
      ]
     },
     "metadata": {},
     "output_type": "display_data"
    },
    {
     "name": "stdout",
     "output_type": "stream",
     "text": [
      "Correlación entre Superficie y Precio: 0.0489865686283868\n"
     ]
    }
   ],
   "source": [
    "import matplotlib.pyplot as plt\n",
    "\n",
    "# Eliminamos las filas que contienen NaN en las columnas precio y superficie\n",
    "ds_limpio = ds.dropna(subset=['price', 'surface'])\n",
    "\n",
    "# Gráfico de dispersión\n",
    "plt.scatter(ds_limpio['surface'], ds_limpio['price'])\n",
    "plt.title('Relación entre Superficie y Precio')\n",
    "plt.xlabel('Superficie')\n",
    "plt.ylabel('Precio')\n",
    "plt.show()\n",
    "\n",
    "# Correlación entre superficie y precio\n",
    "correlacion_superficie_precio = ds_limpio['surface'].corr(ds_limpio['price'])\n",
    "print(f\"Correlación entre Superficie y Precio: {correlacion_superficie_precio}\")\n",
    "\n",
    "# No esta nada claro el grafico de dispersión?????"
   ]
  },
  {
   "attachments": {},
   "cell_type": "markdown",
   "id": "ahead-liquid",
   "metadata": {},
   "source": [
    "**TODO: Markdown**. Escribe aquí, haz doble click en este celda y elimina este contenido y reemplázalo por el texto que quires escribir. Luego ejecuta la celda."
   ]
  },
  {
   "attachments": {},
   "cell_type": "markdown",
   "id": "coordinate-sunrise",
   "metadata": {},
   "source": [
    "#### Ejercicio 12. ¿Cuántas agencia de bienes raíces contiene el dataset? (★★☆)\n",
    "\n",
    "Imprime el valor obtenido."
   ]
  },
  {
   "cell_type": "code",
   "execution_count": 23,
   "id": "valid-honolulu",
   "metadata": {},
   "outputs": [
    {
     "name": "stdout",
     "output_type": "stream",
     "text": [
      "El dataset contiene 1821 agencias únicas.\n"
     ]
    }
   ],
   "source": [
    "cantidad_agencias = ds['realEstate_name'].nunique()\n",
    "\n",
    "print(f\"El dataset contiene {cantidad_agencias} agencias únicas.\")"
   ]
  },
  {
   "attachments": {},
   "cell_type": "markdown",
   "id": "binding-ebony",
   "metadata": {},
   "source": [
    "#### Ejercicio 13. ¿Cuál es la población (columna level5) que contiene la mayor cantidad de casas?(★★☆)\n",
    "\n",
    "Imprima la población y el número de casas."
   ]
  },
  {
   "cell_type": "code",
   "execution_count": 24,
   "id": "static-perry",
   "metadata": {},
   "outputs": [
    {
     "name": "stdout",
     "output_type": "stream",
     "text": [
      "La población con la mayor cantidad de casas es ' Madrid Capital' con 6643 casas.\n"
     ]
    }
   ],
   "source": [
    "poblacion_mas_casas = ds['level5'].value_counts().idxmax()\n",
    "\n",
    "cantidad_casas_en_poblacion = ds['level5'].value_counts().max()\n",
    "\n",
    "print(f\"La población con la mayor cantidad de casas es '{poblacion_mas_casas}' con {cantidad_casas_en_poblacion} casas.\")"
   ]
  },
  {
   "attachments": {},
   "cell_type": "markdown",
   "id": "entire-classification",
   "metadata": {},
   "source": [
    "#### Ejercicio 14. Ahora vamos a trabajar con el \"cinturón sur\" de Madrid. Has un subconjunto del Dataframe original que contenga las siguientes poblaciones (columna level5): \"Fuenlabrada\",\"Leganés\",\"Getafe\",\"Alcorcón\" (★★☆)\n",
    "\n",
    "Pista: Filtra el Dataframe original usando la columna `level5` y la función `isin`"
   ]
  },
  {
   "cell_type": "code",
   "execution_count": 26,
   "id": "binary-input",
   "metadata": {},
   "outputs": [
    {
     "ename": "NameError",
     "evalue": "name 'subconjunto_ds' is not defined",
     "output_type": "error",
     "traceback": [
      "\u001b[0;31m---------------------------------------------------------------------------\u001b[0m",
      "\u001b[0;31mNameError\u001b[0m                                 Traceback (most recent call last)",
      "Cell \u001b[0;32mIn[26], line 3\u001b[0m\n\u001b[1;32m      1\u001b[0m \u001b[38;5;66;03m# Lista de poblaciones en el subconjunto\u001b[39;00m\n\u001b[1;32m      2\u001b[0m poblaciones_seleccionadas \u001b[38;5;241m=\u001b[39m [\u001b[38;5;124m'\u001b[39m\u001b[38;5;124mFuenlabrada\u001b[39m\u001b[38;5;124m'\u001b[39m, \u001b[38;5;124m'\u001b[39m\u001b[38;5;124mLeganés\u001b[39m\u001b[38;5;124m'\u001b[39m, \u001b[38;5;124m'\u001b[39m\u001b[38;5;124mGetafe\u001b[39m\u001b[38;5;124m'\u001b[39m, \u001b[38;5;124m'\u001b[39m\u001b[38;5;124mAlcorcón\u001b[39m\u001b[38;5;124m'\u001b[39m]\n\u001b[0;32m----> 3\u001b[0m poblaciones_seleccionadas \u001b[38;5;241m=\u001b[39m \u001b[43msubconjunto_ds\u001b[49m\n\u001b[1;32m      5\u001b[0m \u001b[38;5;66;03m# Función isin\u001b[39;00m\n\u001b[1;32m      6\u001b[0m subconjunto_ds \u001b[38;5;241m=\u001b[39m ds[ds[\u001b[38;5;124m'\u001b[39m\u001b[38;5;124mlevel5\u001b[39m\u001b[38;5;124m'\u001b[39m]\u001b[38;5;241m.\u001b[39misin(poblaciones_seleccionadas)]\n",
      "\u001b[0;31mNameError\u001b[0m: name 'subconjunto_ds' is not defined"
     ]
    }
   ],
   "source": [
    "# Lista de poblaciones en el subconjunto\n",
    "poblaciones_seleccionadas = ['Fuenlabrada', 'Leganés', 'Getafe', 'Alcorcón']\n",
    "poblaciones_seleccionadas = subconjunto_ds\n",
    "\n",
    "# Función isin\n",
    "subconjunto_ds = ds[ds['level5'].isin(poblaciones_seleccionadas)]\n",
    "\n",
    "# Imprime el subconjunto\n",
    "print(subconjunto_ds)\n"
   ]
  },
  {
   "attachments": {},
   "cell_type": "markdown",
   "id": "severe-fisher",
   "metadata": {},
   "source": [
    "#### Ejercicio 15. Traza un gráfico de barra de la media de los precios y explica lo que observas (debes usar el subconjunto obtenido de la pregunta 14) (★★★)\n",
    "\n",
    "Imprima un gráfico de barra de la media de precios y escriba en la celda Markdown un breve análisis del sector."
   ]
  },
  {
   "cell_type": "code",
   "execution_count": null,
   "id": "lyric-bunch",
   "metadata": {},
   "outputs": [],
   "source": [
    "# TODO: Code"
   ]
  },
  {
   "attachments": {},
   "cell_type": "markdown",
   "id": "sublime-newspaper",
   "metadata": {},
   "source": [
    "**TODO: Markdown**. Para escribir aquí, has doble click en esta celda, elimina este contenido y coloca en su lugar el texto que quieres escribir. Luego, ejecuta la celda."
   ]
  },
  {
   "attachments": {},
   "cell_type": "markdown",
   "id": "speaking-diamond",
   "metadata": {},
   "source": [
    "#### Ejercicio 16. Calcula la media y la varianza dela muestra para las siguientes variables: precio, habitaciones, superficie y baños (debes usar el subconjunto obtenido en la pregunta 14) (★★★)\n",
    "\n",
    "Imprime ambos valores por  cada variable."
   ]
  },
  {
   "cell_type": "code",
   "execution_count": null,
   "id": "random-feeling",
   "metadata": {},
   "outputs": [],
   "source": [
    "# TODO"
   ]
  },
  {
   "attachments": {},
   "cell_type": "markdown",
   "id": "revolutionary-matrix",
   "metadata": {},
   "source": [
    "#### Exercise 17. What is the most expensive house of each population? You must use the subset obtained in the question 14 (★★☆)\n",
    "\n",
    "Print both the address and the price of the selected house of each population. You can print a DataFrame or a single line for each population"
   ]
  },
  {
   "cell_type": "code",
   "execution_count": null,
   "id": "fifteen-browse",
   "metadata": {},
   "outputs": [],
   "source": [
    "# TODO"
   ]
  },
  {
   "attachments": {},
   "cell_type": "markdown",
   "id": "activated-knight",
   "metadata": {},
   "source": [
    "#### Exercise 18. Normalize the variable of prices for each population and plot the 4 histograms in the same plot (you must use the subset obtained in the question 14) (★★★)\n",
    "\n",
    "For the normalization method you can use the one you consider to, there is not a single correct answer to this question. Print the plot and write in the Markdown cell a brief analysis about the plot\n",
    "\n",
    "Hint: You can help yourself reviewing the multihist demo of Matplotlib"
   ]
  },
  {
   "cell_type": "code",
   "execution_count": null,
   "id": "civic-meditation",
   "metadata": {},
   "outputs": [],
   "source": [
    "# TODO"
   ]
  },
  {
   "attachments": {},
   "cell_type": "markdown",
   "id": "precise-heavy",
   "metadata": {},
   "source": [
    "**TODO: Markdown**. To write here, double click to this cell and just remove this content and place the text you want to write. Then, execute the cell."
   ]
  },
  {
   "attachments": {},
   "cell_type": "markdown",
   "id": "patent-jonathan",
   "metadata": {},
   "source": [
    "#### Exercise 19. What can you say about the price per square meter (price/m2) between the towns of \"Getafe\" and \"Alcorcón\"? You must use the subset obtained in the question 14 (★★☆)\n",
    "\n",
    "Hint: Create a new column called `pps` (price per square) and then analyse the values"
   ]
  },
  {
   "cell_type": "code",
   "execution_count": null,
   "id": "initial-liverpool",
   "metadata": {},
   "outputs": [],
   "source": [
    "# TODO"
   ]
  },
  {
   "attachments": {},
   "cell_type": "markdown",
   "id": "enhanced-moscow",
   "metadata": {},
   "source": [
    "#### Exercise 20. Make the same plot for 4 different populations (level5 column) and rearrange them on the same graph? You must use the subset obtained in the question 14 (★★☆) \n",
    "Hint: make a scatter plot of each population using subplots."
   ]
  },
  {
   "cell_type": "code",
   "execution_count": null,
   "id": "accepting-airfare",
   "metadata": {},
   "outputs": [],
   "source": [
    "# TODO"
   ]
  },
  {
   "attachments": {},
   "cell_type": "markdown",
   "id": "blocked-effects",
   "metadata": {},
   "source": [
    "#### Ejercicio 21. Realiza un trazado de las coordenadas (columnas latitud y longitud) del cinturón ur de Madrid por color d cada población (debes usar el subconjunto obtenido en la pregunta 14) (★★★★)\n",
    "\n",
    "Ejecuta la siguiente celda y luego comienza a codear en la siguiente. Debes implementar u código simple que transforme las columnas de coordenadas en un diccionario de python (agrega más información si es necesario) y agrégala al mapa."
   ]
  },
  {
   "cell_type": "code",
   "execution_count": null,
   "id": "headed-privacy",
   "metadata": {},
   "outputs": [
    {
     "ename": "AttributeError",
     "evalue": "Stamen",
     "output_type": "error",
     "traceback": [
      "\u001b[0;31m---------------------------------------------------------------------------\u001b[0m",
      "\u001b[0;31mKeyError\u001b[0m                                  Traceback (most recent call last)",
      "File \u001b[0;32m~/.local/lib/python3.11/site-packages/xyzservices/lib.py:44\u001b[0m, in \u001b[0;36mBunch.__getattr__\u001b[0;34m(self, key)\u001b[0m\n\u001b[1;32m     43\u001b[0m \u001b[38;5;28;01mtry\u001b[39;00m:\n\u001b[0;32m---> 44\u001b[0m     \u001b[38;5;28;01mreturn\u001b[39;00m \u001b[38;5;28;43mself\u001b[39;49m\u001b[38;5;241;43m.\u001b[39;49m\u001b[38;5;21;43m__getitem__\u001b[39;49m\u001b[43m(\u001b[49m\u001b[43mkey\u001b[49m\u001b[43m)\u001b[49m\n\u001b[1;32m     45\u001b[0m \u001b[38;5;28;01mexcept\u001b[39;00m \u001b[38;5;167;01mKeyError\u001b[39;00m \u001b[38;5;28;01mas\u001b[39;00m err:\n",
      "\u001b[0;31mKeyError\u001b[0m: 'Stamen'",
      "\nThe above exception was the direct cause of the following exception:\n",
      "\u001b[0;31mAttributeError\u001b[0m                            Traceback (most recent call last)",
      "Cell \u001b[0;32mIn[94], line 6\u001b[0m\n\u001b[1;32m      1\u001b[0m \u001b[38;5;28;01mfrom\u001b[39;00m \u001b[38;5;21;01mipyleaflet\u001b[39;00m \u001b[38;5;28;01mimport\u001b[39;00m Map, basemaps\n\u001b[1;32m      3\u001b[0m \u001b[38;5;66;03m# Mapa centrado en (60 grados latitud et -2.2 grados longitud)\u001b[39;00m\n\u001b[1;32m      4\u001b[0m \u001b[38;5;66;03m# Latitud, longitud\u001b[39;00m\n\u001b[1;32m      5\u001b[0m \u001b[38;5;28mmap\u001b[39m \u001b[38;5;241m=\u001b[39m Map(center \u001b[38;5;241m=\u001b[39m (\u001b[38;5;241m60\u001b[39m, \u001b[38;5;241m-\u001b[39m\u001b[38;5;241m2.2\u001b[39m), zoom \u001b[38;5;241m=\u001b[39m \u001b[38;5;241m2\u001b[39m, min_zoom \u001b[38;5;241m=\u001b[39m \u001b[38;5;241m1\u001b[39m, max_zoom \u001b[38;5;241m=\u001b[39m \u001b[38;5;241m20\u001b[39m, \n\u001b[0;32m----> 6\u001b[0m     basemap\u001b[38;5;241m=\u001b[39m\u001b[43mbasemaps\u001b[49m\u001b[38;5;241;43m.\u001b[39;49m\u001b[43mStamen\u001b[49m\u001b[38;5;241m.\u001b[39mTerrain)\n\u001b[1;32m      7\u001b[0m \u001b[38;5;28mmap\u001b[39m\n",
      "File \u001b[0;32m~/.local/lib/python3.11/site-packages/xyzservices/lib.py:46\u001b[0m, in \u001b[0;36mBunch.__getattr__\u001b[0;34m(self, key)\u001b[0m\n\u001b[1;32m     44\u001b[0m     \u001b[38;5;28;01mreturn\u001b[39;00m \u001b[38;5;28mself\u001b[39m\u001b[38;5;241m.\u001b[39m\u001b[38;5;21m__getitem__\u001b[39m(key)\n\u001b[1;32m     45\u001b[0m \u001b[38;5;28;01mexcept\u001b[39;00m \u001b[38;5;167;01mKeyError\u001b[39;00m \u001b[38;5;28;01mas\u001b[39;00m err:\n\u001b[0;32m---> 46\u001b[0m     \u001b[38;5;28;01mraise\u001b[39;00m \u001b[38;5;167;01mAttributeError\u001b[39;00m(key) \u001b[38;5;28;01mfrom\u001b[39;00m \u001b[38;5;21;01merr\u001b[39;00m\n",
      "\u001b[0;31mAttributeError\u001b[0m: Stamen"
     ]
    }
   ],
   "source": [
    "from ipyleaflet import Map, basemaps\n",
    "\n",
    "# Mapa centrado en (60 grados latitud et -2.2 grados longitud)\n",
    "# Latitud, longitud\n",
    "map = Map(center = (60, -2.2), zoom = 2, min_zoom = 1, max_zoom = 20, \n",
    "    basemap=basemaps.Stamen.Terrain)\n",
    "map"
   ]
  },
  {
   "cell_type": "code",
   "execution_count": null,
   "id": "present-mistress",
   "metadata": {},
   "outputs": [],
   "source": [
    "## Aquí: traza la coordenadas de los estados\n",
    "\n",
    "## PON TU CÓDIGO AQUÍ:\n"
   ]
  }
 ],
 "metadata": {
  "kernelspec": {
   "display_name": "Python 3",
   "language": "python",
   "name": "python3"
  },
  "language_info": {
   "codemirror_mode": {
    "name": "ipython",
    "version": 3
   },
   "file_extension": ".py",
   "mimetype": "text/x-python",
   "name": "python",
   "nbconvert_exporter": "python",
   "pygments_lexer": "ipython3",
   "version": "3.11.4"
  }
 },
 "nbformat": 4,
 "nbformat_minor": 5
}
